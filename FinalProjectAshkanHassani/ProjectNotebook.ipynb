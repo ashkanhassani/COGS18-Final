{
 "cells": [
  {
   "cell_type": "markdown",
   "metadata": {},
   "source": [
    "# Project Description"
   ]
  },
  {
   "cell_type": "markdown",
   "metadata": {},
   "source": [
    "I created a 2x2 Epidemiological Calculator! It takes 4 inputs and runs very basic risk ratios, odds ratios, prevalence ratios, and prevalence odds ratio. It returns the outputs of those calculations with an **interpretation** of the results, which is unique to any other epi calculator. "
   ]
  },
  {
   "cell_type": "code",
   "execution_count": 1,
   "metadata": {},
   "outputs": [],
   "source": [
    "#            Disease (+) | Disease (-)\n",
    "#             _________________________\n",
    "# Exposed (+)|----A-------|----B------| \n",
    "#            |________________________|\n",
    "# Exposed (-)|----C-------|----D------| \n",
    "#            |________________________|    "
   ]
  },
  {
   "cell_type": "markdown",
   "metadata": {},
   "source": [
    "## Project Code\n",
    "\n"
   ]
  },
  {
   "cell_type": "markdown",
   "metadata": {},
   "source": [
    "**I have uploaded my code to Canvas"
   ]
  },
  {
   "cell_type": "markdown",
   "metadata": {},
   "source": [
    "#### Extra Credit (*optional*)\n",
    "\n",
    "Replace all of this text with a brief explanation (~3 sentences) of: \n",
    "1. I have no coding background. This class is my first exposure to python and coding in general\n",
    "2. I think my project is really cool and I spent a long time incorporating a GUI interface using tkinter. I enjoyed incorporating my public health/ epidemiology background into and I left notes on how I plan to expand the program after this class! "
   ]
  }
 ],
 "metadata": {
  "kernelspec": {
   "display_name": "Python 3",
   "language": "python",
   "name": "python3"
  },
  "language_info": {
   "codemirror_mode": {
    "name": "ipython",
    "version": 3
   },
   "file_extension": ".py",
   "mimetype": "text/x-python",
   "name": "python",
   "nbconvert_exporter": "python",
   "pygments_lexer": "ipython3",
   "version": "3.8.6"
  }
 },
 "nbformat": 4,
 "nbformat_minor": 2
}
